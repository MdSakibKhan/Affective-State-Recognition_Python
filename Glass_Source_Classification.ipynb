{
  "nbformat": 4,
  "nbformat_minor": 0,
  "metadata": {
    "colab": {
      "name": "Glass Source Classification.ipynb",
      "provenance": [],
      "collapsed_sections": [],
      "include_colab_link": true
    },
    "kernelspec": {
      "name": "python3",
      "display_name": "Python 3"
    }
  },
  "cells": [
    {
      "cell_type": "markdown",
      "metadata": {
        "id": "view-in-github",
        "colab_type": "text"
      },
      "source": [
        "<a href=\"https://colab.research.google.com/github/MdSakibKhan/Python_ML-Neural-Network/blob/main/Glass_Source_Classification.ipynb\" target=\"_parent\"><img src=\"https://colab.research.google.com/assets/colab-badge.svg\" alt=\"Open In Colab\"/></a>"
      ]
    },
    {
      "cell_type": "code",
      "metadata": {
        "id": "XdSstSDauQfk"
      },
      "source": [
        "import numpy as np\n",
        "import pandas as pd"
      ],
      "execution_count": null,
      "outputs": []
    },
    {
      "cell_type": "code",
      "metadata": {
        "id": "rPcZFRqCv4cB"
      },
      "source": [
        "dataset = pd.read_csv('/content/drive/MyDrive/CSE422/Dataset/glass source classification dataset.csv')\n",
        "data = pd.DataFrame(dataset)"
      ],
      "execution_count": null,
      "outputs": []
    },
    {
      "cell_type": "code",
      "metadata": {
        "id": "s9h0A69Ow0R9",
        "colab": {
          "base_uri": "https://localhost:8080/",
          "height": 419
        },
        "outputId": "89e6be2f-04f2-4ef5-b908-ddb99ec1c408"
      },
      "source": [
        "data"
      ],
      "execution_count": null,
      "outputs": [
        {
          "output_type": "execute_result",
          "data": {
            "text/html": [
              "<div>\n",
              "<style scoped>\n",
              "    .dataframe tbody tr th:only-of-type {\n",
              "        vertical-align: middle;\n",
              "    }\n",
              "\n",
              "    .dataframe tbody tr th {\n",
              "        vertical-align: top;\n",
              "    }\n",
              "\n",
              "    .dataframe thead th {\n",
              "        text-align: right;\n",
              "    }\n",
              "</style>\n",
              "<table border=\"1\" class=\"dataframe\">\n",
              "  <thead>\n",
              "    <tr style=\"text-align: right;\">\n",
              "      <th></th>\n",
              "      <th>Unnamed: 0</th>\n",
              "      <th>RI</th>\n",
              "      <th>Na</th>\n",
              "      <th>Mg</th>\n",
              "      <th>Al</th>\n",
              "      <th>Si</th>\n",
              "      <th>K</th>\n",
              "      <th>Ca</th>\n",
              "      <th>Ba</th>\n",
              "      <th>Fe</th>\n",
              "      <th>Type</th>\n",
              "    </tr>\n",
              "  </thead>\n",
              "  <tbody>\n",
              "    <tr>\n",
              "      <th>0</th>\n",
              "      <td>0</td>\n",
              "      <td>1.52101</td>\n",
              "      <td>13.64</td>\n",
              "      <td>4.49</td>\n",
              "      <td>1.10</td>\n",
              "      <td>71.78</td>\n",
              "      <td>0.06</td>\n",
              "      <td>NaN</td>\n",
              "      <td>Does not exist</td>\n",
              "      <td>Does not exist</td>\n",
              "      <td>building_window glass</td>\n",
              "    </tr>\n",
              "    <tr>\n",
              "      <th>1</th>\n",
              "      <td>1</td>\n",
              "      <td>1.51761</td>\n",
              "      <td>13.89</td>\n",
              "      <td>3.60</td>\n",
              "      <td>1.36</td>\n",
              "      <td>72.73</td>\n",
              "      <td>0.48</td>\n",
              "      <td>7.83</td>\n",
              "      <td>Does not exist</td>\n",
              "      <td>Does not exist</td>\n",
              "      <td>building_window glass</td>\n",
              "    </tr>\n",
              "    <tr>\n",
              "      <th>2</th>\n",
              "      <td>2</td>\n",
              "      <td>1.51618</td>\n",
              "      <td>13.53</td>\n",
              "      <td>3.55</td>\n",
              "      <td>1.54</td>\n",
              "      <td>72.99</td>\n",
              "      <td>0.39</td>\n",
              "      <td>7.78</td>\n",
              "      <td>Does not exist</td>\n",
              "      <td>Does not exist</td>\n",
              "      <td>building_window glass</td>\n",
              "    </tr>\n",
              "    <tr>\n",
              "      <th>3</th>\n",
              "      <td>3</td>\n",
              "      <td>1.51766</td>\n",
              "      <td>13.21</td>\n",
              "      <td>3.69</td>\n",
              "      <td>1.29</td>\n",
              "      <td>72.61</td>\n",
              "      <td>0.57</td>\n",
              "      <td>NaN</td>\n",
              "      <td>Does not exist</td>\n",
              "      <td>Does not exist</td>\n",
              "      <td>building_window glass</td>\n",
              "    </tr>\n",
              "    <tr>\n",
              "      <th>4</th>\n",
              "      <td>4</td>\n",
              "      <td>1.51742</td>\n",
              "      <td>13.27</td>\n",
              "      <td>3.62</td>\n",
              "      <td>1.24</td>\n",
              "      <td>73.08</td>\n",
              "      <td>0.55</td>\n",
              "      <td>8.07</td>\n",
              "      <td>Does not exist</td>\n",
              "      <td>Does not exist</td>\n",
              "      <td>building_window glass</td>\n",
              "    </tr>\n",
              "    <tr>\n",
              "      <th>...</th>\n",
              "      <td>...</td>\n",
              "      <td>...</td>\n",
              "      <td>...</td>\n",
              "      <td>...</td>\n",
              "      <td>...</td>\n",
              "      <td>...</td>\n",
              "      <td>...</td>\n",
              "      <td>...</td>\n",
              "      <td>...</td>\n",
              "      <td>...</td>\n",
              "      <td>...</td>\n",
              "    </tr>\n",
              "    <tr>\n",
              "      <th>209</th>\n",
              "      <td>209</td>\n",
              "      <td>1.51623</td>\n",
              "      <td>14.14</td>\n",
              "      <td>0.00</td>\n",
              "      <td>2.88</td>\n",
              "      <td>72.61</td>\n",
              "      <td>0.08</td>\n",
              "      <td>9.18</td>\n",
              "      <td>exists</td>\n",
              "      <td>Does not exist</td>\n",
              "      <td>headlamp glass</td>\n",
              "    </tr>\n",
              "    <tr>\n",
              "      <th>210</th>\n",
              "      <td>210</td>\n",
              "      <td>1.51685</td>\n",
              "      <td>14.92</td>\n",
              "      <td>0.00</td>\n",
              "      <td>1.99</td>\n",
              "      <td>73.06</td>\n",
              "      <td>0.00</td>\n",
              "      <td>NaN</td>\n",
              "      <td>exists</td>\n",
              "      <td>Does not exist</td>\n",
              "      <td>headlamp glass</td>\n",
              "    </tr>\n",
              "    <tr>\n",
              "      <th>211</th>\n",
              "      <td>211</td>\n",
              "      <td>1.52065</td>\n",
              "      <td>14.36</td>\n",
              "      <td>0.00</td>\n",
              "      <td>2.02</td>\n",
              "      <td>73.42</td>\n",
              "      <td>0.00</td>\n",
              "      <td>8.44</td>\n",
              "      <td>exists</td>\n",
              "      <td>Does not exist</td>\n",
              "      <td>headlamp glass</td>\n",
              "    </tr>\n",
              "    <tr>\n",
              "      <th>212</th>\n",
              "      <td>212</td>\n",
              "      <td>1.51651</td>\n",
              "      <td>14.38</td>\n",
              "      <td>0.00</td>\n",
              "      <td>1.94</td>\n",
              "      <td>73.61</td>\n",
              "      <td>0.00</td>\n",
              "      <td>8.48</td>\n",
              "      <td>exists</td>\n",
              "      <td>Does not exist</td>\n",
              "      <td>headlamp glass</td>\n",
              "    </tr>\n",
              "    <tr>\n",
              "      <th>213</th>\n",
              "      <td>213</td>\n",
              "      <td>1.51711</td>\n",
              "      <td>14.23</td>\n",
              "      <td>0.00</td>\n",
              "      <td>2.08</td>\n",
              "      <td>73.36</td>\n",
              "      <td>0.00</td>\n",
              "      <td>8.62</td>\n",
              "      <td>exists</td>\n",
              "      <td>Does not exist</td>\n",
              "      <td>headlamp glass</td>\n",
              "    </tr>\n",
              "  </tbody>\n",
              "</table>\n",
              "<p>214 rows × 11 columns</p>\n",
              "</div>"
            ],
            "text/plain": [
              "     Unnamed: 0       RI  ...              Fe                   Type\n",
              "0             0  1.52101  ...  Does not exist  building_window glass\n",
              "1             1  1.51761  ...  Does not exist  building_window glass\n",
              "2             2  1.51618  ...  Does not exist  building_window glass\n",
              "3             3  1.51766  ...  Does not exist  building_window glass\n",
              "4             4  1.51742  ...  Does not exist  building_window glass\n",
              "..          ...      ...  ...             ...                    ...\n",
              "209         209  1.51623  ...  Does not exist         headlamp glass\n",
              "210         210  1.51685  ...  Does not exist         headlamp glass\n",
              "211         211  1.52065  ...  Does not exist         headlamp glass\n",
              "212         212  1.51651  ...  Does not exist         headlamp glass\n",
              "213         213  1.51711  ...  Does not exist         headlamp glass\n",
              "\n",
              "[214 rows x 11 columns]"
            ]
          },
          "metadata": {
            "tags": []
          },
          "execution_count": 17
        }
      ]
    },
    {
      "cell_type": "markdown",
      "metadata": {
        "id": "Uh8wbT3gx_og"
      },
      "source": [
        "Handling NaN values, By replacing them with 0"
      ]
    },
    {
      "cell_type": "code",
      "metadata": {
        "colab": {
          "base_uri": "https://localhost:8080/",
          "height": 419
        },
        "id": "X3yNpuD-xc-r",
        "outputId": "61f507a6-88ec-4676-fc1e-31ab8feb4dfc"
      },
      "source": [
        "datanew = data.fillna(0)\n",
        "datanew"
      ],
      "execution_count": null,
      "outputs": [
        {
          "output_type": "execute_result",
          "data": {
            "text/html": [
              "<div>\n",
              "<style scoped>\n",
              "    .dataframe tbody tr th:only-of-type {\n",
              "        vertical-align: middle;\n",
              "    }\n",
              "\n",
              "    .dataframe tbody tr th {\n",
              "        vertical-align: top;\n",
              "    }\n",
              "\n",
              "    .dataframe thead th {\n",
              "        text-align: right;\n",
              "    }\n",
              "</style>\n",
              "<table border=\"1\" class=\"dataframe\">\n",
              "  <thead>\n",
              "    <tr style=\"text-align: right;\">\n",
              "      <th></th>\n",
              "      <th>Unnamed: 0</th>\n",
              "      <th>RI</th>\n",
              "      <th>Na</th>\n",
              "      <th>Mg</th>\n",
              "      <th>Al</th>\n",
              "      <th>Si</th>\n",
              "      <th>K</th>\n",
              "      <th>Ca</th>\n",
              "      <th>Ba</th>\n",
              "      <th>Fe</th>\n",
              "      <th>Type</th>\n",
              "    </tr>\n",
              "  </thead>\n",
              "  <tbody>\n",
              "    <tr>\n",
              "      <th>0</th>\n",
              "      <td>0</td>\n",
              "      <td>1.52101</td>\n",
              "      <td>13.64</td>\n",
              "      <td>4.49</td>\n",
              "      <td>1.10</td>\n",
              "      <td>71.78</td>\n",
              "      <td>0.06</td>\n",
              "      <td>0.00</td>\n",
              "      <td>Does not exist</td>\n",
              "      <td>Does not exist</td>\n",
              "      <td>building_window glass</td>\n",
              "    </tr>\n",
              "    <tr>\n",
              "      <th>1</th>\n",
              "      <td>1</td>\n",
              "      <td>1.51761</td>\n",
              "      <td>13.89</td>\n",
              "      <td>3.60</td>\n",
              "      <td>1.36</td>\n",
              "      <td>72.73</td>\n",
              "      <td>0.48</td>\n",
              "      <td>7.83</td>\n",
              "      <td>Does not exist</td>\n",
              "      <td>Does not exist</td>\n",
              "      <td>building_window glass</td>\n",
              "    </tr>\n",
              "    <tr>\n",
              "      <th>2</th>\n",
              "      <td>2</td>\n",
              "      <td>1.51618</td>\n",
              "      <td>13.53</td>\n",
              "      <td>3.55</td>\n",
              "      <td>1.54</td>\n",
              "      <td>72.99</td>\n",
              "      <td>0.39</td>\n",
              "      <td>7.78</td>\n",
              "      <td>Does not exist</td>\n",
              "      <td>Does not exist</td>\n",
              "      <td>building_window glass</td>\n",
              "    </tr>\n",
              "    <tr>\n",
              "      <th>3</th>\n",
              "      <td>3</td>\n",
              "      <td>1.51766</td>\n",
              "      <td>13.21</td>\n",
              "      <td>3.69</td>\n",
              "      <td>1.29</td>\n",
              "      <td>72.61</td>\n",
              "      <td>0.57</td>\n",
              "      <td>0.00</td>\n",
              "      <td>Does not exist</td>\n",
              "      <td>Does not exist</td>\n",
              "      <td>building_window glass</td>\n",
              "    </tr>\n",
              "    <tr>\n",
              "      <th>4</th>\n",
              "      <td>4</td>\n",
              "      <td>1.51742</td>\n",
              "      <td>13.27</td>\n",
              "      <td>3.62</td>\n",
              "      <td>1.24</td>\n",
              "      <td>73.08</td>\n",
              "      <td>0.55</td>\n",
              "      <td>8.07</td>\n",
              "      <td>Does not exist</td>\n",
              "      <td>Does not exist</td>\n",
              "      <td>building_window glass</td>\n",
              "    </tr>\n",
              "    <tr>\n",
              "      <th>...</th>\n",
              "      <td>...</td>\n",
              "      <td>...</td>\n",
              "      <td>...</td>\n",
              "      <td>...</td>\n",
              "      <td>...</td>\n",
              "      <td>...</td>\n",
              "      <td>...</td>\n",
              "      <td>...</td>\n",
              "      <td>...</td>\n",
              "      <td>...</td>\n",
              "      <td>...</td>\n",
              "    </tr>\n",
              "    <tr>\n",
              "      <th>209</th>\n",
              "      <td>209</td>\n",
              "      <td>1.51623</td>\n",
              "      <td>14.14</td>\n",
              "      <td>0.00</td>\n",
              "      <td>2.88</td>\n",
              "      <td>72.61</td>\n",
              "      <td>0.08</td>\n",
              "      <td>9.18</td>\n",
              "      <td>exists</td>\n",
              "      <td>Does not exist</td>\n",
              "      <td>headlamp glass</td>\n",
              "    </tr>\n",
              "    <tr>\n",
              "      <th>210</th>\n",
              "      <td>210</td>\n",
              "      <td>1.51685</td>\n",
              "      <td>14.92</td>\n",
              "      <td>0.00</td>\n",
              "      <td>1.99</td>\n",
              "      <td>73.06</td>\n",
              "      <td>0.00</td>\n",
              "      <td>0.00</td>\n",
              "      <td>exists</td>\n",
              "      <td>Does not exist</td>\n",
              "      <td>headlamp glass</td>\n",
              "    </tr>\n",
              "    <tr>\n",
              "      <th>211</th>\n",
              "      <td>211</td>\n",
              "      <td>1.52065</td>\n",
              "      <td>14.36</td>\n",
              "      <td>0.00</td>\n",
              "      <td>2.02</td>\n",
              "      <td>73.42</td>\n",
              "      <td>0.00</td>\n",
              "      <td>8.44</td>\n",
              "      <td>exists</td>\n",
              "      <td>Does not exist</td>\n",
              "      <td>headlamp glass</td>\n",
              "    </tr>\n",
              "    <tr>\n",
              "      <th>212</th>\n",
              "      <td>212</td>\n",
              "      <td>1.51651</td>\n",
              "      <td>14.38</td>\n",
              "      <td>0.00</td>\n",
              "      <td>1.94</td>\n",
              "      <td>73.61</td>\n",
              "      <td>0.00</td>\n",
              "      <td>8.48</td>\n",
              "      <td>exists</td>\n",
              "      <td>Does not exist</td>\n",
              "      <td>headlamp glass</td>\n",
              "    </tr>\n",
              "    <tr>\n",
              "      <th>213</th>\n",
              "      <td>213</td>\n",
              "      <td>1.51711</td>\n",
              "      <td>14.23</td>\n",
              "      <td>0.00</td>\n",
              "      <td>2.08</td>\n",
              "      <td>73.36</td>\n",
              "      <td>0.00</td>\n",
              "      <td>8.62</td>\n",
              "      <td>exists</td>\n",
              "      <td>Does not exist</td>\n",
              "      <td>headlamp glass</td>\n",
              "    </tr>\n",
              "  </tbody>\n",
              "</table>\n",
              "<p>214 rows × 11 columns</p>\n",
              "</div>"
            ],
            "text/plain": [
              "     Unnamed: 0       RI  ...              Fe                   Type\n",
              "0             0  1.52101  ...  Does not exist  building_window glass\n",
              "1             1  1.51761  ...  Does not exist  building_window glass\n",
              "2             2  1.51618  ...  Does not exist  building_window glass\n",
              "3             3  1.51766  ...  Does not exist  building_window glass\n",
              "4             4  1.51742  ...  Does not exist  building_window glass\n",
              "..          ...      ...  ...             ...                    ...\n",
              "209         209  1.51623  ...  Does not exist         headlamp glass\n",
              "210         210  1.51685  ...  Does not exist         headlamp glass\n",
              "211         211  1.52065  ...  Does not exist         headlamp glass\n",
              "212         212  1.51651  ...  Does not exist         headlamp glass\n",
              "213         213  1.51711  ...  Does not exist         headlamp glass\n",
              "\n",
              "[214 rows x 11 columns]"
            ]
          },
          "metadata": {
            "tags": []
          },
          "execution_count": 18
        }
      ]
    },
    {
      "cell_type": "code",
      "metadata": {
        "id": "6biL8cU3yPCQ"
      },
      "source": [
        "b = datanew['Ba']\n",
        "ba_Value = []\n",
        "for i in range(len(b)):\n",
        "    if b[i] == 'Does not exist':\n",
        "        ba_Value.append(0)\n",
        "    else:\n",
        "        ba_Value.append(1)\n",
        "\n",
        "f = datanew['Fe']\n",
        "\n",
        "fe_Value = []\n",
        "for i in range(len(f)):\n",
        "    if f[i] == 'Does not exist':\n",
        "        fe_Value.append(0)\n",
        "    else:\n",
        "        fe_Value.append(1)\n",
        "\n",
        "t = datanew['Type']\n",
        "type_Value = []\n",
        "for i in range(len(t)):\n",
        "    if t[i] == 'building_window glass':\n",
        "        type_Value.append(0)\n",
        "    elif t[i] == 'vehicle_window glass':\n",
        "        type_Value.append(1)\n",
        "    elif t[i] == 'container glass':\n",
        "        type_Value.append(2)   \n",
        "    elif t[i] == 'tableware glass':\n",
        "        type_Value.append(3)\n",
        "    else:\n",
        "        type_Value.append(4)"
      ],
      "execution_count": null,
      "outputs": []
    },
    {
      "cell_type": "code",
      "metadata": {
        "colab": {
          "base_uri": "https://localhost:8080/",
          "height": 419
        },
        "id": "rENxlOSi5Q_N",
        "outputId": "134a5dbb-f0ef-4bfa-91ca-4df3c8db798c"
      },
      "source": [
        "datanew['Ba'] = ba_Value\n",
        "datanew['Fe'] = fe_Value\n",
        "datanew['Type'] = type_Value\n",
        "#datanew.to_csv('new.csv',index=False)\n",
        "datanew = datanew.drop(['Unnamed: 0'], axis = 1)\n",
        "datanew"
      ],
      "execution_count": null,
      "outputs": [
        {
          "output_type": "execute_result",
          "data": {
            "text/html": [
              "<div>\n",
              "<style scoped>\n",
              "    .dataframe tbody tr th:only-of-type {\n",
              "        vertical-align: middle;\n",
              "    }\n",
              "\n",
              "    .dataframe tbody tr th {\n",
              "        vertical-align: top;\n",
              "    }\n",
              "\n",
              "    .dataframe thead th {\n",
              "        text-align: right;\n",
              "    }\n",
              "</style>\n",
              "<table border=\"1\" class=\"dataframe\">\n",
              "  <thead>\n",
              "    <tr style=\"text-align: right;\">\n",
              "      <th></th>\n",
              "      <th>RI</th>\n",
              "      <th>Na</th>\n",
              "      <th>Mg</th>\n",
              "      <th>Al</th>\n",
              "      <th>Si</th>\n",
              "      <th>K</th>\n",
              "      <th>Ca</th>\n",
              "      <th>Ba</th>\n",
              "      <th>Fe</th>\n",
              "      <th>Type</th>\n",
              "    </tr>\n",
              "  </thead>\n",
              "  <tbody>\n",
              "    <tr>\n",
              "      <th>0</th>\n",
              "      <td>1.52101</td>\n",
              "      <td>13.64</td>\n",
              "      <td>4.49</td>\n",
              "      <td>1.10</td>\n",
              "      <td>71.78</td>\n",
              "      <td>0.06</td>\n",
              "      <td>0.00</td>\n",
              "      <td>0</td>\n",
              "      <td>0</td>\n",
              "      <td>0</td>\n",
              "    </tr>\n",
              "    <tr>\n",
              "      <th>1</th>\n",
              "      <td>1.51761</td>\n",
              "      <td>13.89</td>\n",
              "      <td>3.60</td>\n",
              "      <td>1.36</td>\n",
              "      <td>72.73</td>\n",
              "      <td>0.48</td>\n",
              "      <td>7.83</td>\n",
              "      <td>0</td>\n",
              "      <td>0</td>\n",
              "      <td>0</td>\n",
              "    </tr>\n",
              "    <tr>\n",
              "      <th>2</th>\n",
              "      <td>1.51618</td>\n",
              "      <td>13.53</td>\n",
              "      <td>3.55</td>\n",
              "      <td>1.54</td>\n",
              "      <td>72.99</td>\n",
              "      <td>0.39</td>\n",
              "      <td>7.78</td>\n",
              "      <td>0</td>\n",
              "      <td>0</td>\n",
              "      <td>0</td>\n",
              "    </tr>\n",
              "    <tr>\n",
              "      <th>3</th>\n",
              "      <td>1.51766</td>\n",
              "      <td>13.21</td>\n",
              "      <td>3.69</td>\n",
              "      <td>1.29</td>\n",
              "      <td>72.61</td>\n",
              "      <td>0.57</td>\n",
              "      <td>0.00</td>\n",
              "      <td>0</td>\n",
              "      <td>0</td>\n",
              "      <td>0</td>\n",
              "    </tr>\n",
              "    <tr>\n",
              "      <th>4</th>\n",
              "      <td>1.51742</td>\n",
              "      <td>13.27</td>\n",
              "      <td>3.62</td>\n",
              "      <td>1.24</td>\n",
              "      <td>73.08</td>\n",
              "      <td>0.55</td>\n",
              "      <td>8.07</td>\n",
              "      <td>0</td>\n",
              "      <td>0</td>\n",
              "      <td>0</td>\n",
              "    </tr>\n",
              "    <tr>\n",
              "      <th>...</th>\n",
              "      <td>...</td>\n",
              "      <td>...</td>\n",
              "      <td>...</td>\n",
              "      <td>...</td>\n",
              "      <td>...</td>\n",
              "      <td>...</td>\n",
              "      <td>...</td>\n",
              "      <td>...</td>\n",
              "      <td>...</td>\n",
              "      <td>...</td>\n",
              "    </tr>\n",
              "    <tr>\n",
              "      <th>209</th>\n",
              "      <td>1.51623</td>\n",
              "      <td>14.14</td>\n",
              "      <td>0.00</td>\n",
              "      <td>2.88</td>\n",
              "      <td>72.61</td>\n",
              "      <td>0.08</td>\n",
              "      <td>9.18</td>\n",
              "      <td>1</td>\n",
              "      <td>0</td>\n",
              "      <td>4</td>\n",
              "    </tr>\n",
              "    <tr>\n",
              "      <th>210</th>\n",
              "      <td>1.51685</td>\n",
              "      <td>14.92</td>\n",
              "      <td>0.00</td>\n",
              "      <td>1.99</td>\n",
              "      <td>73.06</td>\n",
              "      <td>0.00</td>\n",
              "      <td>0.00</td>\n",
              "      <td>1</td>\n",
              "      <td>0</td>\n",
              "      <td>4</td>\n",
              "    </tr>\n",
              "    <tr>\n",
              "      <th>211</th>\n",
              "      <td>1.52065</td>\n",
              "      <td>14.36</td>\n",
              "      <td>0.00</td>\n",
              "      <td>2.02</td>\n",
              "      <td>73.42</td>\n",
              "      <td>0.00</td>\n",
              "      <td>8.44</td>\n",
              "      <td>1</td>\n",
              "      <td>0</td>\n",
              "      <td>4</td>\n",
              "    </tr>\n",
              "    <tr>\n",
              "      <th>212</th>\n",
              "      <td>1.51651</td>\n",
              "      <td>14.38</td>\n",
              "      <td>0.00</td>\n",
              "      <td>1.94</td>\n",
              "      <td>73.61</td>\n",
              "      <td>0.00</td>\n",
              "      <td>8.48</td>\n",
              "      <td>1</td>\n",
              "      <td>0</td>\n",
              "      <td>4</td>\n",
              "    </tr>\n",
              "    <tr>\n",
              "      <th>213</th>\n",
              "      <td>1.51711</td>\n",
              "      <td>14.23</td>\n",
              "      <td>0.00</td>\n",
              "      <td>2.08</td>\n",
              "      <td>73.36</td>\n",
              "      <td>0.00</td>\n",
              "      <td>8.62</td>\n",
              "      <td>1</td>\n",
              "      <td>0</td>\n",
              "      <td>4</td>\n",
              "    </tr>\n",
              "  </tbody>\n",
              "</table>\n",
              "<p>214 rows × 10 columns</p>\n",
              "</div>"
            ],
            "text/plain": [
              "          RI     Na    Mg    Al     Si     K    Ca  Ba  Fe  Type\n",
              "0    1.52101  13.64  4.49  1.10  71.78  0.06  0.00   0   0     0\n",
              "1    1.51761  13.89  3.60  1.36  72.73  0.48  7.83   0   0     0\n",
              "2    1.51618  13.53  3.55  1.54  72.99  0.39  7.78   0   0     0\n",
              "3    1.51766  13.21  3.69  1.29  72.61  0.57  0.00   0   0     0\n",
              "4    1.51742  13.27  3.62  1.24  73.08  0.55  8.07   0   0     0\n",
              "..       ...    ...   ...   ...    ...   ...   ...  ..  ..   ...\n",
              "209  1.51623  14.14  0.00  2.88  72.61  0.08  9.18   1   0     4\n",
              "210  1.51685  14.92  0.00  1.99  73.06  0.00  0.00   1   0     4\n",
              "211  1.52065  14.36  0.00  2.02  73.42  0.00  8.44   1   0     4\n",
              "212  1.51651  14.38  0.00  1.94  73.61  0.00  8.48   1   0     4\n",
              "213  1.51711  14.23  0.00  2.08  73.36  0.00  8.62   1   0     4\n",
              "\n",
              "[214 rows x 10 columns]"
            ]
          },
          "metadata": {
            "tags": []
          },
          "execution_count": 20
        }
      ]
    },
    {
      "cell_type": "code",
      "metadata": {
        "id": "hT3-_ifX9r0E",
        "colab": {
          "base_uri": "https://localhost:8080/",
          "height": 419
        },
        "outputId": "7781ad4b-64b4-4743-a7dc-696b3101e666"
      },
      "source": [
        "from sklearn import preprocessing\n",
        "predictor  = datanew['Type']\n",
        "left = datanew.drop(['Type'],axis=1)\n",
        "left = preprocessing.minmax_scale(left)\n",
        "left = pd.DataFrame(left)\n",
        "left"
      ],
      "execution_count": null,
      "outputs": [
        {
          "output_type": "execute_result",
          "data": {
            "text/html": [
              "<div>\n",
              "<style scoped>\n",
              "    .dataframe tbody tr th:only-of-type {\n",
              "        vertical-align: middle;\n",
              "    }\n",
              "\n",
              "    .dataframe tbody tr th {\n",
              "        vertical-align: top;\n",
              "    }\n",
              "\n",
              "    .dataframe thead th {\n",
              "        text-align: right;\n",
              "    }\n",
              "</style>\n",
              "<table border=\"1\" class=\"dataframe\">\n",
              "  <thead>\n",
              "    <tr style=\"text-align: right;\">\n",
              "      <th></th>\n",
              "      <th>0</th>\n",
              "      <th>1</th>\n",
              "      <th>2</th>\n",
              "      <th>3</th>\n",
              "      <th>4</th>\n",
              "      <th>5</th>\n",
              "      <th>6</th>\n",
              "      <th>7</th>\n",
              "      <th>8</th>\n",
              "    </tr>\n",
              "  </thead>\n",
              "  <tbody>\n",
              "    <tr>\n",
              "      <th>0</th>\n",
              "      <td>0.432836</td>\n",
              "      <td>0.437594</td>\n",
              "      <td>1.000000</td>\n",
              "      <td>0.252336</td>\n",
              "      <td>0.351786</td>\n",
              "      <td>0.009662</td>\n",
              "      <td>0.000000</td>\n",
              "      <td>0.0</td>\n",
              "      <td>0.0</td>\n",
              "    </tr>\n",
              "    <tr>\n",
              "      <th>1</th>\n",
              "      <td>0.283582</td>\n",
              "      <td>0.475188</td>\n",
              "      <td>0.801782</td>\n",
              "      <td>0.333333</td>\n",
              "      <td>0.521429</td>\n",
              "      <td>0.077295</td>\n",
              "      <td>0.483632</td>\n",
              "      <td>0.0</td>\n",
              "      <td>0.0</td>\n",
              "    </tr>\n",
              "    <tr>\n",
              "      <th>2</th>\n",
              "      <td>0.220808</td>\n",
              "      <td>0.421053</td>\n",
              "      <td>0.790646</td>\n",
              "      <td>0.389408</td>\n",
              "      <td>0.567857</td>\n",
              "      <td>0.062802</td>\n",
              "      <td>0.480544</td>\n",
              "      <td>0.0</td>\n",
              "      <td>0.0</td>\n",
              "    </tr>\n",
              "    <tr>\n",
              "      <th>3</th>\n",
              "      <td>0.285777</td>\n",
              "      <td>0.372932</td>\n",
              "      <td>0.821826</td>\n",
              "      <td>0.311526</td>\n",
              "      <td>0.500000</td>\n",
              "      <td>0.091787</td>\n",
              "      <td>0.000000</td>\n",
              "      <td>0.0</td>\n",
              "      <td>0.0</td>\n",
              "    </tr>\n",
              "    <tr>\n",
              "      <th>4</th>\n",
              "      <td>0.275241</td>\n",
              "      <td>0.381955</td>\n",
              "      <td>0.806236</td>\n",
              "      <td>0.295950</td>\n",
              "      <td>0.583929</td>\n",
              "      <td>0.088567</td>\n",
              "      <td>0.498456</td>\n",
              "      <td>0.0</td>\n",
              "      <td>0.0</td>\n",
              "    </tr>\n",
              "    <tr>\n",
              "      <th>...</th>\n",
              "      <td>...</td>\n",
              "      <td>...</td>\n",
              "      <td>...</td>\n",
              "      <td>...</td>\n",
              "      <td>...</td>\n",
              "      <td>...</td>\n",
              "      <td>...</td>\n",
              "      <td>...</td>\n",
              "      <td>...</td>\n",
              "    </tr>\n",
              "    <tr>\n",
              "      <th>209</th>\n",
              "      <td>0.223003</td>\n",
              "      <td>0.512782</td>\n",
              "      <td>0.000000</td>\n",
              "      <td>0.806854</td>\n",
              "      <td>0.500000</td>\n",
              "      <td>0.012882</td>\n",
              "      <td>0.567017</td>\n",
              "      <td>1.0</td>\n",
              "      <td>0.0</td>\n",
              "    </tr>\n",
              "    <tr>\n",
              "      <th>210</th>\n",
              "      <td>0.250219</td>\n",
              "      <td>0.630075</td>\n",
              "      <td>0.000000</td>\n",
              "      <td>0.529595</td>\n",
              "      <td>0.580357</td>\n",
              "      <td>0.000000</td>\n",
              "      <td>0.000000</td>\n",
              "      <td>1.0</td>\n",
              "      <td>0.0</td>\n",
              "    </tr>\n",
              "    <tr>\n",
              "      <th>211</th>\n",
              "      <td>0.417032</td>\n",
              "      <td>0.545865</td>\n",
              "      <td>0.000000</td>\n",
              "      <td>0.538941</td>\n",
              "      <td>0.644643</td>\n",
              "      <td>0.000000</td>\n",
              "      <td>0.521309</td>\n",
              "      <td>1.0</td>\n",
              "      <td>0.0</td>\n",
              "    </tr>\n",
              "    <tr>\n",
              "      <th>212</th>\n",
              "      <td>0.235294</td>\n",
              "      <td>0.548872</td>\n",
              "      <td>0.000000</td>\n",
              "      <td>0.514019</td>\n",
              "      <td>0.678571</td>\n",
              "      <td>0.000000</td>\n",
              "      <td>0.523780</td>\n",
              "      <td>1.0</td>\n",
              "      <td>0.0</td>\n",
              "    </tr>\n",
              "    <tr>\n",
              "      <th>213</th>\n",
              "      <td>0.261633</td>\n",
              "      <td>0.526316</td>\n",
              "      <td>0.000000</td>\n",
              "      <td>0.557632</td>\n",
              "      <td>0.633929</td>\n",
              "      <td>0.000000</td>\n",
              "      <td>0.532427</td>\n",
              "      <td>1.0</td>\n",
              "      <td>0.0</td>\n",
              "    </tr>\n",
              "  </tbody>\n",
              "</table>\n",
              "<p>214 rows × 9 columns</p>\n",
              "</div>"
            ],
            "text/plain": [
              "            0         1         2         3  ...         5         6    7    8\n",
              "0    0.432836  0.437594  1.000000  0.252336  ...  0.009662  0.000000  0.0  0.0\n",
              "1    0.283582  0.475188  0.801782  0.333333  ...  0.077295  0.483632  0.0  0.0\n",
              "2    0.220808  0.421053  0.790646  0.389408  ...  0.062802  0.480544  0.0  0.0\n",
              "3    0.285777  0.372932  0.821826  0.311526  ...  0.091787  0.000000  0.0  0.0\n",
              "4    0.275241  0.381955  0.806236  0.295950  ...  0.088567  0.498456  0.0  0.0\n",
              "..        ...       ...       ...       ...  ...       ...       ...  ...  ...\n",
              "209  0.223003  0.512782  0.000000  0.806854  ...  0.012882  0.567017  1.0  0.0\n",
              "210  0.250219  0.630075  0.000000  0.529595  ...  0.000000  0.000000  1.0  0.0\n",
              "211  0.417032  0.545865  0.000000  0.538941  ...  0.000000  0.521309  1.0  0.0\n",
              "212  0.235294  0.548872  0.000000  0.514019  ...  0.000000  0.523780  1.0  0.0\n",
              "213  0.261633  0.526316  0.000000  0.557632  ...  0.000000  0.532427  1.0  0.0\n",
              "\n",
              "[214 rows x 9 columns]"
            ]
          },
          "metadata": {
            "tags": []
          },
          "execution_count": 21
        }
      ]
    },
    {
      "cell_type": "code",
      "metadata": {
        "colab": {
          "base_uri": "https://localhost:8080/",
          "height": 419
        },
        "id": "59Ja_sNY_oGJ",
        "outputId": "7cd03f9a-c353-4456-eeb6-9baad9260b64"
      },
      "source": [
        "predictor = pd.DataFrame(predictor)\n",
        "predictor"
      ],
      "execution_count": null,
      "outputs": [
        {
          "output_type": "execute_result",
          "data": {
            "text/html": [
              "<div>\n",
              "<style scoped>\n",
              "    .dataframe tbody tr th:only-of-type {\n",
              "        vertical-align: middle;\n",
              "    }\n",
              "\n",
              "    .dataframe tbody tr th {\n",
              "        vertical-align: top;\n",
              "    }\n",
              "\n",
              "    .dataframe thead th {\n",
              "        text-align: right;\n",
              "    }\n",
              "</style>\n",
              "<table border=\"1\" class=\"dataframe\">\n",
              "  <thead>\n",
              "    <tr style=\"text-align: right;\">\n",
              "      <th></th>\n",
              "      <th>Type</th>\n",
              "    </tr>\n",
              "  </thead>\n",
              "  <tbody>\n",
              "    <tr>\n",
              "      <th>0</th>\n",
              "      <td>0</td>\n",
              "    </tr>\n",
              "    <tr>\n",
              "      <th>1</th>\n",
              "      <td>0</td>\n",
              "    </tr>\n",
              "    <tr>\n",
              "      <th>2</th>\n",
              "      <td>0</td>\n",
              "    </tr>\n",
              "    <tr>\n",
              "      <th>3</th>\n",
              "      <td>0</td>\n",
              "    </tr>\n",
              "    <tr>\n",
              "      <th>4</th>\n",
              "      <td>0</td>\n",
              "    </tr>\n",
              "    <tr>\n",
              "      <th>...</th>\n",
              "      <td>...</td>\n",
              "    </tr>\n",
              "    <tr>\n",
              "      <th>209</th>\n",
              "      <td>4</td>\n",
              "    </tr>\n",
              "    <tr>\n",
              "      <th>210</th>\n",
              "      <td>4</td>\n",
              "    </tr>\n",
              "    <tr>\n",
              "      <th>211</th>\n",
              "      <td>4</td>\n",
              "    </tr>\n",
              "    <tr>\n",
              "      <th>212</th>\n",
              "      <td>4</td>\n",
              "    </tr>\n",
              "    <tr>\n",
              "      <th>213</th>\n",
              "      <td>4</td>\n",
              "    </tr>\n",
              "  </tbody>\n",
              "</table>\n",
              "<p>214 rows × 1 columns</p>\n",
              "</div>"
            ],
            "text/plain": [
              "     Type\n",
              "0       0\n",
              "1       0\n",
              "2       0\n",
              "3       0\n",
              "4       0\n",
              "..    ...\n",
              "209     4\n",
              "210     4\n",
              "211     4\n",
              "212     4\n",
              "213     4\n",
              "\n",
              "[214 rows x 1 columns]"
            ]
          },
          "metadata": {
            "tags": []
          },
          "execution_count": 22
        }
      ]
    },
    {
      "cell_type": "code",
      "metadata": {
        "id": "CCQ8bTlrlVxJ",
        "colab": {
          "base_uri": "https://localhost:8080/"
        },
        "outputId": "6c3b8a64-9219-45c2-b0fe-a175d9dafff4"
      },
      "source": [
        "from google.colab import drive\n",
        "drive.mount('/content/drive')"
      ],
      "execution_count": null,
      "outputs": [
        {
          "output_type": "stream",
          "text": [
            "Drive already mounted at /content/drive; to attempt to forcibly remount, call drive.mount(\"/content/drive\", force_remount=True).\n"
          ],
          "name": "stdout"
        }
      ]
    },
    {
      "cell_type": "code",
      "metadata": {
        "id": "g4jc3ZhDl1yE"
      },
      "source": [
        "from sklearn.model_selection import train_test_split\r\n",
        "\r\n",
        "X_train, X_test, Y_train, Y_test = train_test_split(\r\n",
        "    left, predictor, test_size=0.20, random_state=0, stratify = predictor)\r\n",
        "\r\n"
      ],
      "execution_count": null,
      "outputs": []
    },
    {
      "cell_type": "code",
      "metadata": {
        "colab": {
          "base_uri": "https://localhost:8080/"
        },
        "id": "vuPHaei7nsDt",
        "outputId": "c61e8d97-fa31-4b8f-d7b0-6b5177b5af9f"
      },
      "source": [
        "print(len(Y_train))\r\n",
        "print(len(Y_test))"
      ],
      "execution_count": null,
      "outputs": [
        {
          "output_type": "stream",
          "text": [
            "171\n",
            "43\n"
          ],
          "name": "stdout"
        }
      ]
    },
    {
      "cell_type": "code",
      "metadata": {
        "id": "ypaNuOsSmE7c",
        "colab": {
          "base_uri": "https://localhost:8080/"
        },
        "outputId": "0c50e426-4aa0-41fc-9e0b-fb82ba68a825"
      },
      "source": [
        "from sklearn.model_selection import cross_val_score\r\n",
        "from sklearn.tree import DecisionTreeClassifier\r\n",
        "\r\n",
        "classifier = DecisionTreeClassifier(random_state=0)\r\n",
        "classifier.fit(X_train, Y_train)\r\n",
        "Y_pred = classifier.predict(X_test)\r\n",
        "\r\n",
        "from sklearn.metrics import accuracy_score\r\n",
        "print(accuracy_score(Y_test, Y_pred)*100)\r\n",
        "dc = accuracy_score(Y_test, Y_pred)*100"
      ],
      "execution_count": null,
      "outputs": [
        {
          "output_type": "stream",
          "text": [
            "83.72093023255815\n"
          ],
          "name": "stdout"
        }
      ]
    },
    {
      "cell_type": "code",
      "metadata": {
        "colab": {
          "base_uri": "https://localhost:8080/"
        },
        "id": "LblYDgK4sIrl",
        "outputId": "c5b2aa9d-ea21-4744-82ef-5e38a0987dd3"
      },
      "source": [
        "predictor.iloc[:,0]"
      ],
      "execution_count": null,
      "outputs": [
        {
          "output_type": "execute_result",
          "data": {
            "text/plain": [
              "0      0\n",
              "1      0\n",
              "2      0\n",
              "3      0\n",
              "4      0\n",
              "      ..\n",
              "209    4\n",
              "210    4\n",
              "211    4\n",
              "212    4\n",
              "213    4\n",
              "Name: Type, Length: 214, dtype: int64"
            ]
          },
          "metadata": {
            "tags": []
          },
          "execution_count": 27
        }
      ]
    },
    {
      "cell_type": "code",
      "metadata": {
        "id": "e2vCClTBqvVf",
        "colab": {
          "base_uri": "https://localhost:8080/"
        },
        "outputId": "a8d86142-b573-4fd4-cb0c-e2624b08ce37"
      },
      "source": [
        "from sklearn.linear_model import LogisticRegression\r\n",
        "from sklearn.model_selection import cross_val_score\r\n",
        "\r\n",
        "\r\n",
        "classifier = LogisticRegression(random_state=0).fit(left,predictor.iloc[:,0])\r\n",
        "classifier.fit(X_train, Y_train.iloc[:,0])\r\n",
        "Y_pred = classifier.predict(X_test)\r\n",
        "\r\n",
        "from sklearn.metrics import accuracy_score\r\n",
        "print(accuracy_score(Y_test, Y_pred)*100)\r\n",
        "lg = accuracy_score(Y_test, Y_pred)*100"
      ],
      "execution_count": null,
      "outputs": [
        {
          "output_type": "stream",
          "text": [
            "79.06976744186046\n"
          ],
          "name": "stdout"
        }
      ]
    },
    {
      "cell_type": "code",
      "metadata": {
        "colab": {
          "base_uri": "https://localhost:8080/",
          "height": 407
        },
        "id": "Sc9paGEKsv7F",
        "outputId": "7426de45-33f4-4505-c647-f5693a238e1b"
      },
      "source": [
        "import matplotlib.pyplot as plt\r\n",
        "\r\n",
        "fig, (ax1) = plt.subplots(1, 1, figsize=(6, 6))\r\n",
        "r4 = ['Logistic Regression','Decision Tree']\r\n",
        "ax1.bar(['Logistic Regression','Decision Tree'], height=[lg,dc] ,color='#FF5133') \r\n",
        "ax1.text(x = 'Logistic Regression' , y = lg, s = format(lg,'.3f'), size = 20)\r\n",
        "ax1.text(x = 'Decision Tree' , y = dc, s = format(dc,'.3f'), size = 20)\r\n",
        "ax1.set_title(\"Results\")\r\n"
      ],
      "execution_count": null,
      "outputs": [
        {
          "output_type": "execute_result",
          "data": {
            "text/plain": [
              "Text(0.5, 1.0, 'Results')"
            ]
          },
          "metadata": {
            "tags": []
          },
          "execution_count": 29
        },
        {
          "output_type": "display_data",
          "data": {
            "image/png": "[encoded data removed]",
            "text/plain": [
              "<Figure size 432x432 with 1 Axes>"
            ]
          },
          "metadata": {
            "tags": [],
            "needs_background": "light"
          }
        }
      ]
    },
    {
      "cell_type": "code",
      "metadata": {
        "colab": {
          "base_uri": "https://localhost:8080/"
        },
        "id": "FD6RqfPYmMgj",
        "outputId": "f6cb451c-b322-4c60-db69-46dc0fc1a0b1"
      },
      "source": [
        "from sklearn.linear_model import LogisticRegression\r\n",
        "from sklearn.model_selection import cross_val_score\r\n",
        "from sklearn.svm import SVC\r\n",
        "from sklearn import svm\r\n",
        "classifier = svm.SVC(kernel=\"linear\").fit(left,predictor.iloc[:,0])\r\n",
        "classifier.fit(X_train, Y_train.iloc[:,0])\r\n",
        "Y_pred = classifier.predict(X_test)\r\n",
        "\r\n",
        "from sklearn.metrics import accuracy_score\r\n",
        "print(accuracy_score(Y_test, Y_pred)*100)\r\n",
        "svm = accuracy_score(Y_test, Y_pred)*100"
      ],
      "execution_count": null,
      "outputs": [
        {
          "output_type": "stream",
          "text": [
            "76.74418604651163\n"
          ],
          "name": "stdout"
        }
      ]
    },
    {
      "cell_type": "code",
      "metadata": {
        "colab": {
          "base_uri": "https://localhost:8080/"
        },
        "id": "Ptkcp5AcnZKm",
        "outputId": "04ee6168-1cc1-4c5b-dd2d-1360b6387318"
      },
      "source": [
        "from sklearn.ensemble import RandomForestClassifier\r\n",
        "from sklearn.model_selection import cross_val_score\r\n",
        "\r\n",
        "classifier = RandomForestClassifier(max_depth=2, random_state=0).fit(left,predictor.iloc[:,0])\r\n",
        "classifier.fit(X_train, Y_train.iloc[:,0])\r\n",
        "Y_pred = classifier.predict(X_test)\r\n",
        "\r\n",
        "from sklearn.metrics import accuracy_score\r\n",
        "print(accuracy_score(Y_test, Y_pred)*100)\r\n",
        "rfc = accuracy_score(Y_test, Y_pred)*100"
      ],
      "execution_count": null,
      "outputs": [
        {
          "output_type": "stream",
          "text": [
            "81.3953488372093\n"
          ],
          "name": "stdout"
        }
      ]
    },
    {
      "cell_type": "code",
      "metadata": {
        "colab": {
          "base_uri": "https://localhost:8080/",
          "height": 407
        },
        "id": "P4pdiah0oOW5",
        "outputId": "f1389805-3814-4b6b-cbf8-070db4f67e7a"
      },
      "source": [
        "import matplotlib.pyplot as plt\r\n",
        "\r\n",
        "fig, (ax1) = plt.subplots(1, 1, figsize=(10, 6))\r\n",
        "r4 = ['Logistic Regression','Decision Tree','SVM','Random Forest']\r\n",
        "ax1.bar(['Logistic Regression','Decision Tree','SVM','Random Forest'], height=[lg,dc,svm,rfc] ,color='#FF5133') \r\n",
        "ax1.text(x = 'Logistic Regression' , y = lg, s = format(lg,'.3f'), size = 20)\r\n",
        "ax1.text(x = 'Decision Tree' , y = dc, s = format(dc,'.3f'), size = 20)\r\n",
        "ax1.text(x = 'SVM' , y = svm, s = format(svm,'.3f'), size = 20)\r\n",
        "ax1.text(x = 'Random Forest' , y = rfc, s = format(rfc,'.3f'), size = 20)\r\n",
        "ax1.set_title(\"Results\")"
      ],
      "execution_count": null,
      "outputs": [
        {
          "output_type": "execute_result",
          "data": {
            "text/plain": [
              "Text(0.5, 1.0, 'Results')"
            ]
          },
          "metadata": {
            "tags": []
          },
          "execution_count": 38
        },
        {
          "output_type": "display_data",
          "data": {
            "image/png": "[encoded data removed]",
            "text/plain": [
              "<Figure size 720x432 with 1 Axes>"
            ]
          },
          "metadata": {
            "tags": [],
            "needs_background": "light"
          }
        }
      ]
    }
  ]
}